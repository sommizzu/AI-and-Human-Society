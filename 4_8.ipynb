{
  "nbformat": 4,
  "nbformat_minor": 0,
  "metadata": {
    "colab": {
      "name": "4_8.ipynb",
      "provenance": [],
      "include_colab_link": true
    },
    "kernelspec": {
      "name": "python3",
      "display_name": "Python 3"
    },
    "language_info": {
      "name": "python"
    }
  },
  "cells": [
    {
      "cell_type": "markdown",
      "metadata": {
        "id": "view-in-github",
        "colab_type": "text"
      },
      "source": [
        "<a href=\"https://colab.research.google.com/github/sommizzu/AI-and-Human-Society/blob/main/4_8.ipynb\" target=\"_parent\"><img src=\"https://colab.research.google.com/assets/colab-badge.svg\" alt=\"Open In Colab\"/></a>"
      ]
    },
    {
      "cell_type": "code",
      "source": [
        "!git clone https://github.com/sommizzu/AI-and-Human-Society.git"
      ],
      "metadata": {
        "colab": {
          "base_uri": "https://localhost:8080/"
        },
        "id": "-am0_h4C3pZJ",
        "outputId": "a7b5ef12-2bb8-451e-8ffc-d329de4dbd57"
      },
      "execution_count": null,
      "outputs": [
        {
          "output_type": "stream",
          "name": "stdout",
          "text": [
            "fatal: destination path 'AI-and-Human-Society' already exists and is not an empty directory.\n"
          ]
        }
      ]
    },
    {
      "cell_type": "code",
      "execution_count": null,
      "metadata": {
        "id": "9C4ymD_PTWAN"
      },
      "outputs": [],
      "source": [
        "import matplotlib.pyplot as plt\n",
        "import numpy as np\n",
        "\n",
        "# 닥스훈트의 길이와 높이 데이터\n",
        "dach_length = [75, 77, 83, 81, 73, 99, 72, 83]\n",
        "dach_height = [24, 29, 19, 32, 21, 22, 19, 34]\n",
        "\n",
        "# 사모예드의 길이와 높이 데이터\n",
        "samo_length = [76, 78, 82, 88, 76, 83, 81, 89]\n",
        "samo_height = [55, 58, 53, 54, 61, 52, 57, 64]\n",
        "\n",
        "# 말티즈의 길이와 높이 데이터\n",
        "malti_length = [35, 39, 38, 41, 30, 57, 41, 35]\n",
        "malti_height = [23, 26, 19, 30, 21, 24, 28, 20]"
      ]
    },
    {
      "cell_type": "code",
      "source": [
        "dach_length"
      ],
      "metadata": {
        "colab": {
          "base_uri": "https://localhost:8080/"
        },
        "id": "3MI9DwTSUa3v",
        "outputId": "f308c71b-13c3-42e5-8a01-d44ab7dff17c"
      },
      "execution_count": null,
      "outputs": [
        {
          "output_type": "execute_result",
          "data": {
            "text/plain": [
              "[75, 77, 83, 81, 73, 99, 72, 83]"
            ]
          },
          "metadata": {},
          "execution_count": 12
        }
      ]
    },
    {
      "cell_type": "code",
      "source": [
        "plt.scatter(dach_length, dach_height, c='red', label='Dachshund') \n",
        "plt.scatter(samo_length, samo_height, c='blue', marker='^', label='Samoyed')\n",
        "plt.scatter(malti_length, malti_height, c='green', label='maltese')\n",
        "\n",
        "plt.xlabel('Length')\n",
        "plt.ylabel('Height')\n",
        "plt.title('Dog size')\n",
        "plt.legend(loc='upper left')\n",
        "\n",
        "plt.show()"
      ],
      "metadata": {
        "colab": {
          "base_uri": "https://localhost:8080/",
          "height": 295
        },
        "id": "Me1csnz5TwOe",
        "outputId": "87e455f1-06e1-47d1-9ce7-c5ea2acfad31"
      },
      "execution_count": null,
      "outputs": [
        {
          "output_type": "display_data",
          "data": {
            "text/plain": [
              "<Figure size 432x288 with 1 Axes>"
            ],
            "image/png": "[encoded data removed]"
          },
          "metadata": {
            "needs_background": "light"
          }
        }
      ]
    },
    {
      "cell_type": "code",
      "source": [
        "newdata_length = [79]\n",
        "newdata_height = [35]"
      ],
      "metadata": {
        "id": "fnterYErUoyW"
      },
      "execution_count": null,
      "outputs": []
    },
    {
      "cell_type": "code",
      "source": [
        "plt.scatter(dach_length, dach_height, c='red', label='Dachshund') \n",
        "plt.scatter(samo_length, samo_height, c='blue', marker='^', label='Samoyed')\n",
        "plt.scatter(malti_length, malti_height, c='green', label='maltese')\n",
        "plt.scatter(newdata_length, newdata_height, c='black', label='newdata')\n",
        "\n",
        "plt.xlabel('Length')\n",
        "plt.ylabel('Height')\n",
        "plt.title('Dog size')\n",
        "plt.legend(loc='upper left')\n",
        "\n",
        "plt.show()"
      ],
      "metadata": {
        "colab": {
          "base_uri": "https://localhost:8080/",
          "height": 295
        },
        "id": "qIi6DAhBVe3n",
        "outputId": "f12e6195-1429-4945-ec1f-21a972b1c716"
      },
      "execution_count": null,
      "outputs": [
        {
          "output_type": "display_data",
          "data": {
            "text/plain": [
              "<Figure size 432x288 with 1 Axes>"
            ],
            "image/png": "[encoded data removed]"
          },
          "metadata": {
            "needs_background": "light"
          }
        }
      ]
    },
    {
      "cell_type": "code",
      "source": [
        "d_data = np.column_stack((dach_length, dach_height))\n",
        "d_label = [0]*(len(d_data))  # 닥스훈트는 0으로 레이블링"
      ],
      "metadata": {
        "id": "-YcJnQvAWuBA"
      },
      "execution_count": null,
      "outputs": []
    },
    {
      "cell_type": "code",
      "source": [
        "d_data"
      ],
      "metadata": {
        "colab": {
          "base_uri": "https://localhost:8080/"
        },
        "id": "YEaefT-TWut4",
        "outputId": "ca4e0818-af85-454c-f642-10b0acef9887"
      },
      "execution_count": null,
      "outputs": [
        {
          "output_type": "execute_result",
          "data": {
            "text/plain": [
              "array([[75, 24],\n",
              "       [77, 29],\n",
              "       [83, 19],\n",
              "       [81, 32],\n",
              "       [73, 21],\n",
              "       [99, 22],\n",
              "       [72, 19],\n",
              "       [83, 34]])"
            ]
          },
          "metadata": {},
          "execution_count": 22
        }
      ]
    },
    {
      "cell_type": "code",
      "source": [
        "d_label"
      ],
      "metadata": {
        "colab": {
          "base_uri": "https://localhost:8080/"
        },
        "id": "Tl_H0qS1XFaA",
        "outputId": "79162182-684a-4f91-df0b-1c5c3ecf6db6"
      },
      "execution_count": null,
      "outputs": [
        {
          "output_type": "execute_result",
          "data": {
            "text/plain": [
              "[0, 0, 0, 0, 0, 0, 0, 0]"
            ]
          },
          "metadata": {},
          "execution_count": 24
        }
      ]
    },
    {
      "cell_type": "code",
      "source": [
        "s_data = np.column_stack((samo_length, samo_height))\n",
        "s_label = [1]*(len(s_data))  #사모예드는 1으로 레이블링\n",
        "\n",
        "m_data = np.column_stack((malti_length, malti_height))\n",
        "m_label = [2]*(len(m_data))  #말티즈는 2로 레이블링"
      ],
      "metadata": {
        "id": "f6EIVwBgXBRI"
      },
      "execution_count": null,
      "outputs": []
    },
    {
      "cell_type": "code",
      "source": [
        "print(s_data, s_label)"
      ],
      "metadata": {
        "colab": {
          "base_uri": "https://localhost:8080/"
        },
        "id": "DYzoGxekXC-g",
        "outputId": "d273798a-0894-4fdb-c6f1-c74554e1d58b"
      },
      "execution_count": null,
      "outputs": [
        {
          "output_type": "stream",
          "name": "stdout",
          "text": [
            "[[76 55]\n",
            " [78 58]\n",
            " [82 53]\n",
            " [88 54]\n",
            " [76 61]\n",
            " [83 52]\n",
            " [81 57]\n",
            " [89 64]] [1, 1, 1, 1, 1, 1, 1, 1]\n"
          ]
        }
      ]
    },
    {
      "cell_type": "code",
      "source": [
        "dogs = np.concatenate((d_data, s_data, m_data))\n",
        "labels = np.concatenate((d_label, s_label, m_label))"
      ],
      "metadata": {
        "id": "OWT4BIsqXhbJ"
      },
      "execution_count": null,
      "outputs": []
    },
    {
      "cell_type": "code",
      "source": [
        "dogs"
      ],
      "metadata": {
        "colab": {
          "base_uri": "https://localhost:8080/"
        },
        "id": "AROWWxWOXjVh",
        "outputId": "3ea3fdfd-ab38-4f23-a4ff-013fe8683ebd"
      },
      "execution_count": null,
      "outputs": [
        {
          "output_type": "execute_result",
          "data": {
            "text/plain": [
              "array([[75, 24],\n",
              "       [77, 29],\n",
              "       [83, 19],\n",
              "       [81, 32],\n",
              "       [73, 21],\n",
              "       [99, 22],\n",
              "       [72, 19],\n",
              "       [83, 34],\n",
              "       [76, 55],\n",
              "       [78, 58],\n",
              "       [82, 53],\n",
              "       [88, 54],\n",
              "       [76, 61],\n",
              "       [83, 52],\n",
              "       [81, 57],\n",
              "       [89, 64],\n",
              "       [35, 23],\n",
              "       [39, 26],\n",
              "       [38, 19],\n",
              "       [41, 30],\n",
              "       [30, 21],\n",
              "       [57, 24],\n",
              "       [41, 28],\n",
              "       [35, 20]])"
            ]
          },
          "metadata": {},
          "execution_count": 31
        }
      ]
    },
    {
      "cell_type": "code",
      "source": [
        "from sklearn.neighbors import KNeighborsClassifier "
      ],
      "metadata": {
        "id": "dtj_SXv7YUhq"
      },
      "execution_count": null,
      "outputs": []
    },
    {
      "cell_type": "code",
      "source": [
        "KNeighborsClassifier "
      ],
      "metadata": {
        "colab": {
          "base_uri": "https://localhost:8080/"
        },
        "id": "QSUNr3Y9Ya0x",
        "outputId": "14eec284-2a47-4a4c-8c9c-a14dd083f8a8"
      },
      "execution_count": null,
      "outputs": [
        {
          "output_type": "execute_result",
          "data": {
            "text/plain": [
              "sklearn.neighbors._classification.KNeighborsClassifier"
            ]
          },
          "metadata": {},
          "execution_count": 38
        }
      ]
    },
    {
      "cell_type": "code",
      "source": [
        "k=5\n",
        "model = KNeighborsClassifier(n_neighbors=k)\n",
        "model.fit(dogs, labels)\n",
        "pred = model.predict(dogs)\n",
        "from sklearn.metrics import confusion_matrix\n",
        "confusion_matrix(labels, pred)   # 혼동행렬 만들기\n",
        "print(pred)"
      ],
      "metadata": {
        "colab": {
          "base_uri": "https://localhost:8080/"
        },
        "id": "epFsmdiZZPza",
        "outputId": "cb1a536f-a476-4121-e98b-27e94695e92c"
      },
      "execution_count": null,
      "outputs": [
        {
          "output_type": "stream",
          "name": "stdout",
          "text": [
            "[0 0 0 0 0 0 0 0 1 1 1 1 1 1 1 1 2 2 2 2 2 2 2 2]\n"
          ]
        }
      ]
    },
    {
      "cell_type": "code",
      "source": [
        "def knn_result(data):\n",
        "  for k in [3,5,6]:\n",
        "      model = KNeighborsClassifier(n_neighbors=k)\n",
        "      model.fit(dogs, labels)\n",
        "      pred = model.predict(data)\n",
        "      print(data, 'k=',k, '일때', pred)"
      ],
      "metadata": {
        "id": "DwkAZRANbG-M"
      },
      "execution_count": null,
      "outputs": []
    },
    {
      "cell_type": "code",
      "source": [
        "print('A 데이터 분류 결과')\n",
        "A = [[58,30]]\n",
        "knn_result(A)"
      ],
      "metadata": {
        "colab": {
          "base_uri": "https://localhost:8080/"
        },
        "id": "5ZD5iWsJcMUG",
        "outputId": "7f569a10-9677-4e8b-9bbe-127176d5eb33"
      },
      "execution_count": null,
      "outputs": [
        {
          "output_type": "stream",
          "name": "stdout",
          "text": [
            "A 데이터 분류 결과\n",
            "[[58, 30]] k= 3 일때 [2]\n",
            "[[58, 30]] k= 5 일때 [2]\n",
            "[[58, 30]] k= 6 일때 [0]\n"
          ]
        }
      ]
    },
    {
      "cell_type": "code",
      "source": [
        "print('B 데이터 분류 결과')\n",
        "B = [[80,26]]\n",
        "knn_result(B)"
      ],
      "metadata": {
        "colab": {
          "base_uri": "https://localhost:8080/"
        },
        "id": "tdvA4oqDdo9H",
        "outputId": "79fac6ea-d5f3-4fd1-e14d-01077994ede9"
      },
      "execution_count": null,
      "outputs": [
        {
          "output_type": "stream",
          "name": "stdout",
          "text": [
            "B 데이터 분류 결과\n",
            "[[80, 26]] k= 3 일때 [0]\n",
            "[[80, 26]] k= 5 일때 [0]\n",
            "[[80, 26]] k= 6 일때 [0]\n"
          ]
        }
      ]
    },
    {
      "cell_type": "code",
      "source": [
        "print('C 데이터 분류 결과')\n",
        "C = [[80,41]]\n",
        "knn_result(C)"
      ],
      "metadata": {
        "colab": {
          "base_uri": "https://localhost:8080/"
        },
        "id": "3vgu-WWddsZu",
        "outputId": "52806fa5-aff9-4072-fa93-4b33f448d4b4"
      },
      "execution_count": null,
      "outputs": [
        {
          "output_type": "stream",
          "name": "stdout",
          "text": [
            "C 데이터 분류 결과\n",
            "[[80, 41]] k= 3 일때 [0]\n",
            "[[80, 41]] k= 5 일때 [0]\n",
            "[[80, 41]] k= 6 일때 [0]\n"
          ]
        }
      ]
    },
    {
      "cell_type": "code",
      "source": [
        "print('D 데이터 분류 결과')\n",
        "D = [[35,30]]\n",
        "knn_result(D)\n",
        "\n",
        "print('E 데이터 분류 결과')\n",
        "E = [[70,50]]\n",
        "knn_result(E)"
      ],
      "metadata": {
        "colab": {
          "base_uri": "https://localhost:8080/"
        },
        "id": "1Wi-wU4sd5Pm",
        "outputId": "a626b90b-6ae8-434f-b35a-11082ab24902"
      },
      "execution_count": null,
      "outputs": [
        {
          "output_type": "stream",
          "name": "stdout",
          "text": [
            "D 데이터 분류 결과\n",
            "[[35, 30]] k= 3 일때 [2]\n",
            "[[35, 30]] k= 5 일때 [2]\n",
            "[[35, 30]] k= 6 일때 [2]\n",
            "E 데이터 분류 결과\n",
            "[[70, 50]] k= 3 일때 [1]\n",
            "[[70, 50]] k= 5 일때 [1]\n",
            "[[70, 50]] k= 6 일때 [1]\n"
          ]
        }
      ]
    },
    {
      "cell_type": "code",
      "source": [
        "plt.scatter(dach_length, dach_height, c='red', label='Dachshund')\n",
        "plt.scatter(samo_length, samo_height, c='blue', marker='^', label='Samoyed')\n",
        "plt.scatter(malti_length, malti_height, c='green', label='maltese')\n",
        "\n",
        "plt.scatter(A[0][0], A[0][1], s=200, c='magenta', label='A')\n",
        "plt.scatter(B[0][0], B[0][1], s=200, c='gray', label='B')\n",
        "plt.scatter(C[0][0], C[0][1], s=200, c='cyan', label='C')\n",
        "plt.scatter(D[0][0], D[0][1], s=200, c='black', label='D')\n",
        "plt.scatter(E[0][0], E[0][1], s=200, c='yellow', label='E')\n",
        "\n",
        "plt.xlabel('Length')\n",
        "plt.ylabel('Height')\n",
        "plt.title('Dog size')\n",
        "plt.legend(loc='upper left')\n",
        "\n",
        "plt.show()"
      ],
      "metadata": {
        "colab": {
          "base_uri": "https://localhost:8080/",
          "height": 295
        },
        "id": "R-H6g1JGcuZ9",
        "outputId": "be0c14dd-4479-40d3-aa07-e600f4b6ddb5"
      },
      "execution_count": null,
      "outputs": [
        {
          "output_type": "display_data",
          "data": {
            "text/plain": [
              "<Figure size 432x288 with 1 Axes>"
            ],
            "image/png": "[encoded data removed]"
          },
          "metadata": {
            "needs_background": "light"
          }
        }
      ]
    }
  ]
}